{
 "cells": [
  {
   "cell_type": "code",
   "execution_count": 17,
   "metadata": {},
   "outputs": [],
   "source": [
    "import java.util.Scanner;\n",
    "import java.util.InputMismatchException;\n",
    "\n",
    "class ExceptionTest {\n",
    "    public static void takeNonNegative(int number) {\n",
    "        if (number < 0)\n",
    "            throw new IllegalArgumentException();\n",
    "        System.out.printf(\"%d is entered.%n\", number);\n",
    "    }\n",
    "    \n",
    "    public static void main(String[] args) {\n",
    "        Scanner sc = new Scanner(System.in);\n",
    "        boolean retry = true;\n",
    "        \n",
    "        while (retry) {\n",
    "            try {\n",
    "                System.out.printf(\"Enter a non-negative integer: \");\n",
    "                int number = sc.nextInt();\n",
    "                takeNonNegative(number);\n",
    "                retry = false;\n",
    "            } catch (InputMismatchException e) {\n",
    "                sc.nextLine();\n",
    "                System.err.println(\"Integer input only.\");\n",
    "            } catch (IllegalArgumentException e) {\n",
    "                sc.nextLine();\n",
    "                System.err.println(\"Non-negative integers only.\");\n",
    "            }\n",
    "        }\n",
    "    }\n",
    "}"
   ]
  },
  {
   "cell_type": "code",
   "execution_count": 19,
   "metadata": {},
   "outputs": [
    {
     "name": "stdout",
     "output_type": "stream",
     "text": [
      "Enter a non-negative number: -1\n"
     ]
    },
    {
     "name": "stderr",
     "output_type": "stream",
     "text": [
      "Non-negative integers only.\n"
     ]
    },
    {
     "name": "stdout",
     "output_type": "stream",
     "text": [
      "Enter a non-negative number: Test\n"
     ]
    },
    {
     "name": "stderr",
     "output_type": "stream",
     "text": [
      "Integer input only.\n"
     ]
    },
    {
     "name": "stdout",
     "output_type": "stream",
     "text": [
      "Enter a non-negative number: 12\n",
      "12 is entered.\n"
     ]
    }
   ],
   "source": [
    "ExceptionTest.main(null);"
   ]
  },
  {
   "cell_type": "code",
   "execution_count": 1,
   "metadata": {},
   "outputs": [],
   "source": [
    "import java.util.Scanner;\n",
    "import java.util.InputMismatchException;\n",
    "\n",
    "class ExceptionTest {\n",
    "    public static double squareRoot(double number) {\n",
    "        if (number < 0)\n",
    "            throw new ArithmeticException();\n",
    "        return Math.sqrt(number);\n",
    "    }\n",
    "    \n",
    "    public static void main(String[] args) {\n",
    "        Scanner sc = new Scanner(System.in);\n",
    "        boolean retry = true;\n",
    "        \n",
    "        while (retry) {\n",
    "            try {\n",
    "                System.out.printf(\"Enter a non-negative number: \");\n",
    "                double number = sc.nextDouble();\n",
    "                System.out.println(\"Square root = \" + squareRoot(number));\n",
    "                retry = false;\n",
    "            } catch (InputMismatchException e) {\n",
    "                sc.nextLine();\n",
    "                System.err.println(\"Numeric input only.\");\n",
    "            } catch (ArithmeticException e) {\n",
    "                sc.nextLine();\n",
    "                System.err.println(\"Non-negative numbers only.\");\n",
    "            }\n",
    "        }\n",
    "    }\n",
    "}"
   ]
  },
  {
   "cell_type": "code",
   "execution_count": 2,
   "metadata": {},
   "outputs": [
    {
     "name": "stdout",
     "output_type": "stream",
     "text": [
      "Enter a non-negative number: -1\n"
     ]
    },
    {
     "name": "stderr",
     "output_type": "stream",
     "text": [
      "Non-negative numbers only.\n"
     ]
    },
    {
     "name": "stdout",
     "output_type": "stream",
     "text": [
      "Enter a non-negative number: test\n"
     ]
    },
    {
     "name": "stderr",
     "output_type": "stream",
     "text": [
      "Numeric input only.\n"
     ]
    },
    {
     "name": "stdout",
     "output_type": "stream",
     "text": [
      "Enter a non-negative number: 4\n",
      "Square root = 2.0\n"
     ]
    }
   ],
   "source": [
    "ExceptionTest.main(null);"
   ]
  },
  {
   "cell_type": "code",
   "execution_count": 16,
   "metadata": {},
   "outputs": [
    {
     "ename": "CompilationException",
     "evalue": "",
     "output_type": "error",
     "traceback": [
      "\u001b[1m\u001b[31mconstructor Item in class Item cannot be applied to given types;\u001b[0m",
      "\u001b[1m\u001b[31m  required: double\u001b[0m",
      "\u001b[1m\u001b[31m  found: no arguments\u001b[0m",
      "\u001b[1m\u001b[31m  reason: actual and formal argument lists differ in length\u001b[0m",
      "",
      "\u001b[1m\u001b[30m|   \u001b[1m\u001b[30m            \u001b[0m\u001b[1m\u001b[30m\u001b[41msuper(amount)\u001b[0m\u001b[1m\u001b[30m;\u001b[0m",
      "\u001b[1m\u001b[31mcall to super must be first statement in constructor\u001b[0m",
      "",
      "\u001b[1m\u001b[30m|   \u001b[1m\u001b[30m            \u001b[0m\u001b[1m\u001b[30m\u001b[41msuper(0.0)\u001b[0m\u001b[1m\u001b[30m;\u001b[0m",
      "\u001b[1m\u001b[31mcall to super must be first statement in constructor\u001b[0m",
      ""
     ]
    }
   ],
   "source": [
    "interface Commentable {\n",
    "    void addComment(String comment);\n",
    "}\n",
    "\n",
    "public class Item {\n",
    "    double amount;\n",
    "    \n",
    "    public Item(double amount) {\n",
    "        this.amount = amount;\n",
    "    }\n",
    "    \n",
    "    public void setAmount(double amount) {\n",
    "        this.amount = amount;\n",
    "    }\n",
    "    \n",
    "    public double getAmount() {\n",
    "        return amount;\n",
    "    }\n",
    "}\n",
    "\n",
    "public class Expense extends Item {\n",
    "    public Expense(double amount) {\n",
    "        if (amount < 0.0) {\n",
    "            super(amount);\n",
    "        } else {\n",
    "            super(0.0);\n",
    "        }\n",
    "    }\n",
    "    \n",
    "    @Override\n",
    "    public void setAmount(double amount) {\n",
    "        if (amount > 0.0) {\n",
    "            super.setAmount(amount);\n",
    "        } else {\n",
    "            super.setAmount(0.0);\n",
    "        }\n",
    "    }\n",
    "}\n",
    "\n",
    "//public class Grocery extends Expense implements Commentable {\n",
    "    //\n",
    "//}\n"
   ]
  },
  {
   "cell_type": "code",
   "execution_count": 20,
   "metadata": {},
   "outputs": [
    {
     "name": "stdout",
     "output_type": "stream",
     "text": [
      "2.0\n"
     ]
    }
   ],
   "source": [
    "System.out.println(Math.sqrt(4));"
   ]
  },
  {
   "cell_type": "code",
   "execution_count": 38,
   "metadata": {},
   "outputs": [],
   "source": [
    "import javax.swing.JFrame;\n",
    "import javax.swing.JPanel;\n",
    "import java.awt.Graphics;\n",
    "import java.awt.Color;\n",
    "\n",
    "public class DrawSomething extends JPanel {\n",
    "    public void paintComponent( Graphics g){\n",
    "        super.paintComponent(g);\n",
    "        boolean bright = true;\n",
    "\n",
    "        for (int i = 0; i < 5; i++) {\n",
    "            for (int j = 0; j < 5; j++) {\n",
    "                if (bright) {\n",
    "                    g.setColor(Color.YELLOW);\n",
    "                    bright = false;\n",
    "                } else {\n",
    "                    g.setColor(Color.BLUE);\n",
    "                    bright = true;\n",
    "                }\n",
    "                g.fillOval(25 + 50 * i, 10 + 50 * j, 50, 50);\n",
    "            }\n",
    "        }\n",
    "    }\n",
    "    \n",
    "    public static void main(String[] args) {\n",
    "        JFrame frame = new JFrame();\n",
    "        frame.add(new DrawSomething());\n",
    "        frame.setSize(300, 300);\n",
    "        frame.setVisible(true);\n",
    "    }\n",
    "}"
   ]
  },
  {
   "cell_type": "code",
   "execution_count": 39,
   "metadata": {},
   "outputs": [],
   "source": [
    "DrawSomething.main(null);"
   ]
  },
  {
   "cell_type": "code",
   "execution_count": 29,
   "metadata": {},
   "outputs": [
    {
     "ename": "CompilationException",
     "evalue": "",
     "output_type": "error",
     "traceback": [
      "\u001b[1m\u001b[30m|   \u001b[1m\u001b[30mpublic class TextEvent extends JFrame \u001b[0m",
      "\u001b[1m\u001b[30m|   \u001b[1m\u001b[30m{\u001b[0m",
      "\u001b[1m\u001b[30m|   \u001b[1m\u001b[30m\tprivate JTextField textField1;\t\t\u001b[0m",
      "\u001b[1m\u001b[30m|   \u001b[1m\u001b[30m\tpublic TextEvent (){\u001b[0m",
      "\u001b[1m\u001b[30m|   \u001b[1m\u001b[30m\t\tsuper( \"Application\" );\u001b[0m",
      "\u001b[1m\u001b[30m|   \u001b[1m\u001b[30m\t\tContainer c = getContentPane();\u001b[0m",
      "\u001b[1m\u001b[30m|   \u001b[1m\u001b[30m\t\tc.setLayout( new FlowLayout() );\u001b[0m",
      "\u001b[1m\u001b[30m|   \u001b[1m\u001b[30m\t\t\u001b[0m",
      "\u001b[1m\u001b[30m|   \u001b[1m\u001b[30m\t\tFont font1 = new Font(\"Courier New\", Font.BOLD, 20);\u001b[0m",
      "\u001b[1m\u001b[30m|   \u001b[1m\u001b[30m\t\tJLabel label1 = new JLabel(\"Enter your number:\");\u001b[0m",
      "\u001b[1m\u001b[30m|   \u001b[1m\u001b[30m\t\tlabel1.setFont(font1);\u001b[0m",
      "\u001b[1m\u001b[30m|   \u001b[1m\u001b[30m\t\ttextField1  = new JTextField(25);\u001b[0m",
      "\u001b[1m\u001b[30m|   \u001b[1m\u001b[30m\t\ttextField1.setFont(font1);\u001b[0m",
      "\u001b[1m\u001b[30m|   \u001b[1m\u001b[30m\t\tc.add( label1 );\u001b[0m",
      "\u001b[1m\u001b[30m|   \u001b[1m\u001b[30m\t\tc.add( textField1 );\u001b[0m",
      "\u001b[1m\u001b[30m|   \u001b[1m\u001b[30m\t\t\u001b[0m",
      "\u001b[1m\u001b[30m|   \u001b[1m\u001b[30m\t\ttextField1.addActionListener( new ActionListener() \u001b[0m",
      "\u001b[1m\u001b[30m|   \u001b[1m\u001b[30m\t\t  {\u001b[0m",
      "\u001b[1m\u001b[30m|   \u001b[1m\u001b[30m\t\t\tpublic void actionPerformed(ActionEvent e)\u001b[0m",
      "\u001b[1m\u001b[30m|   \u001b[1m\u001b[30m\t\t\t{  \u001b[0m",
      "\u001b[1m\u001b[30m|   \u001b[1m\u001b[30m\t\t\t\tSystem.out.println(\"You entered \" + e.getActionCommand() );\u001b[0m",
      "\u001b[1m\u001b[30m|   \u001b[1m\u001b[30m\t\t\t\ttextField1.setText(\"\");\u001b[0m",
      "\u001b[1m\u001b[30m|   \u001b[1m\u001b[30m\t\t\t}\u001b[0m",
      "\u001b[1m\u001b[30m|   \u001b[1m\u001b[30m\t\t  } \u001b[0m",
      "\u001b[1m\u001b[30m|   \u001b[1m\u001b[30m\t\t);\u001b[0m",
      "\u001b[1m\u001b[30m|   \u001b[1m\u001b[30m\t\tsetDefaultCloseOperation(JFrame.EXIT_ON_CLOSE);\u001b[0m",
      "\u001b[1m\u001b[30m|   \u001b[1m\u001b[30m        \tsetSize(480,240);\tsetVisible(true);\u001b[0m",
      "\u001b[1m\u001b[30m|   \u001b[1m\u001b[30m\t}\u001b[0m",
      "\u001b[1m\u001b[30m|   \u001b[1m\u001b[30m\t\u001b[0m",
      "\u001b[1m\u001b[30m|   \u001b[1m\u001b[30m\tpublic static void main(String[] args) {\u001b[0m",
      "\u001b[1m\u001b[30m|   \u001b[1m\u001b[30m\t\tnew TextEvent();\u001b[0m",
      "\u001b[1m\u001b[30m|   \u001b[1m\u001b[30m\t}\u001b[0m",
      "\u001b[1m\u001b[30m|   \u001b[1m\u001b[30m}\u001b[0m",
      "\u001b[1m\u001b[31mUnresolved dependencies:\u001b[0m",
      "\u001b[1m\u001b[31m   - class JTextField\u001b[0m",
      "\u001b[1m\u001b[31m   - class Container\u001b[0m",
      "\u001b[1m\u001b[31m   - class FlowLayout\u001b[0m",
      "\u001b[1m\u001b[31m   - class Font\u001b[0m",
      "\u001b[1m\u001b[31m   - variable Font\u001b[0m",
      "\u001b[1m\u001b[31m   - class JLabel\u001b[0m",
      "\u001b[1m\u001b[31m   - class ActionListener\u001b[0m"
     ]
    }
   ],
   "source": [
    "public class TextEvent extends JFrame \n",
    "{\n",
    "\tprivate JTextField textField1;\t\t\n",
    "\tpublic TextEvent (){\n",
    "\t\tsuper( \"Application\" );\n",
    "\t\tContainer c = getContentPane();\n",
    "\t\tc.setLayout( new FlowLayout() );\n",
    "\t\t\n",
    "\t\tFont font1 = new Font(\"Courier New\", Font.BOLD, 20);\n",
    "\t\tJLabel label1 = new JLabel(\"Enter your number:\");\n",
    "\t\tlabel1.setFont(font1);\n",
    "\t\ttextField1  = new JTextField(25);\n",
    "\t\ttextField1.setFont(font1);\n",
    "\t\tc.add( label1 );\n",
    "\t\tc.add( textField1 );\n",
    "\t\t\n",
    "\t\ttextField1.addActionListener( new ActionListener() \n",
    "\t\t  {\n",
    "\t\t\tpublic void actionPerformed(ActionEvent e)\n",
    "\t\t\t{  \n",
    "\t\t\t\tSystem.out.println(\"You entered \" + e.getActionCommand() );\n",
    "\t\t\t\ttextField1.setText(\"\");\n",
    "\t\t\t}\n",
    "\t\t  } \n",
    "\t\t);\n",
    "\t\tsetDefaultCloseOperation(JFrame.EXIT_ON_CLOSE);\n",
    "        \tsetSize(480,240);\tsetVisible(true);\n",
    "\t}\n",
    "\t\n",
    "\tpublic static void main(String[] args) {\n",
    "\t\tnew TextEvent();\n",
    "\t}\n",
    "}\n"
   ]
  },
  {
   "cell_type": "code",
   "execution_count": null,
   "metadata": {},
   "outputs": [],
   "source": []
  }
 ],
 "metadata": {
  "kernelspec": {
   "display_name": "Java",
   "language": "java",
   "name": "java"
  },
  "language_info": {
   "codemirror_mode": "java",
   "file_extension": ".java",
   "mimetype": "text/x-java-source",
   "name": "Java",
   "pygments_lexer": "java",
   "version": "9.0.4+11"
  },
  "toc": {
   "nav_menu": {},
   "number_sections": true,
   "sideBar": true,
   "skip_h1_title": false,
   "title_cell": "Table of Contents",
   "title_sidebar": "Contents",
   "toc_cell": false,
   "toc_position": {},
   "toc_section_display": true,
   "toc_window_display": false
  }
 },
 "nbformat": 4,
 "nbformat_minor": 2
}
