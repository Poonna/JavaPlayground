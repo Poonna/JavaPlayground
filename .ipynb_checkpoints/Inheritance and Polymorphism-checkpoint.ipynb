{
 "cells": [
  {
   "cell_type": "code",
   "execution_count": 2,
   "metadata": {},
   "outputs": [],
   "source": [
    "public class Expense {\n",
    "    private String detail;\n",
    "    private double amount;\n",
    "    \n",
    "    public Expense(String detail, double amount) {\n",
    "        this.detail = detail;\n",
    "        this.amount = amount;\n",
    "    }\n",
    "    \n",
    "    public String getDetail() {\n",
    "        return detail;\n",
    "    }\n",
    "\n",
    "    public double getAmount() {\n",
    "        return amount;\n",
    "    }\n",
    "}"
   ]
  },
  {
   "cell_type": "code",
   "execution_count": 8,
   "metadata": {},
   "outputs": [],
   "source": [
    "import java.util.ArrayList;\n",
    "\n",
    "public class ExpenseTracker {\n",
    "    ArrayList<Expense> expenses = new ArrayList<>();\n",
    "    \n",
    "    public void add(Expense expense) {\n",
    "        expenses.add(expense);\n",
    "    }\n",
    "    \n",
    "    public void remove(Expense expense) {\n",
    "        expenses.remove(expense);\n",
    "    }\n",
    "    \n",
    "    public double getTotalAmount() {\n",
    "        double sum = 0.0;\n",
    "        \n",
    "        for (Expense e : expenses) {\n",
    "            sum += e.getAmount();\n",
    "        }\n",
    "        \n",
    "        return sum;\n",
    "    }\n",
    "}"
   ]
  },
  {
   "cell_type": "code",
   "execution_count": 9,
   "metadata": {},
   "outputs": [
    {
     "name": "stdout",
     "output_type": "stream",
     "text": [
      "150.0\n"
     ]
    }
   ],
   "source": [
    "ExpenseTracker tracker = new ExpenseTracker();\n",
    "tracker.add(new Expense(\"Used item\", 100.0));\n",
    "tracker.add(new Expense(\"Colgate\", 50.0));\n",
    "\n",
    "System.out.println(tracker.getTotalAmount());"
   ]
  },
  {
   "cell_type": "code",
   "execution_count": null,
   "metadata": {},
   "outputs": [],
   "source": []
  }
 ],
 "metadata": {
  "kernelspec": {
   "display_name": "Java",
   "language": "java",
   "name": "java"
  },
  "language_info": {
   "codemirror_mode": "java",
   "file_extension": ".java",
   "mimetype": "text/x-java-source",
   "name": "Java",
   "pygments_lexer": "java",
   "version": "9.0.4+11"
  },
  "toc": {
   "nav_menu": {},
   "number_sections": true,
   "sideBar": true,
   "skip_h1_title": false,
   "title_cell": "Table of Contents",
   "title_sidebar": "Contents",
   "toc_cell": false,
   "toc_position": {},
   "toc_section_display": true,
   "toc_window_display": false
  }
 },
 "nbformat": 4,
 "nbformat_minor": 2
}
