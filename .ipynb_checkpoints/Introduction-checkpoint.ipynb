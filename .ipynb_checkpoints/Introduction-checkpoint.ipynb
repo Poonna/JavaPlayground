{
 "cells": [
  {
   "cell_type": "code",
   "execution_count": 1,
   "metadata": {},
   "outputs": [],
   "source": [
    "class MyClass {\n",
    "    public static void main(String[] args) {\n",
    "        System.out.println(\"Hello, world!\");\n",
    "    }\n",
    "}"
   ]
  },
  {
   "cell_type": "code",
   "execution_count": 4,
   "metadata": {},
   "outputs": [
    {
     "name": "stdout",
     "output_type": "stream",
     "text": [
      "Hello, world!\n"
     ]
    }
   ],
   "source": [
    "MyClass.main(null);"
   ]
  },
  {
   "cell_type": "code",
   "execution_count": 4,
   "metadata": {},
   "outputs": [
    {
     "data": {
      "text/plain": [
       "5 is equal to 32"
      ]
     },
     "execution_count": 4,
     "metadata": {},
     "output_type": "execute_result"
    }
   ],
   "source": [
    "3 + 2 + \" is equal to \" + 3 + 2"
   ]
  },
  {
   "cell_type": "code",
   "execution_count": 49,
   "metadata": {},
   "outputs": [
    {
     "data": {
      "text/plain": [
       "5 is equal to 5"
      ]
     },
     "execution_count": 49,
     "metadata": {},
     "output_type": "execute_result"
    }
   ],
   "source": [
    "3 + 2 + \" is equal to \" + (3 + 2)"
   ]
  },
  {
   "cell_type": "code",
   "execution_count": 8,
   "metadata": {},
   "outputs": [
    {
     "data": {
      "text/plain": [
       "4.5"
      ]
     },
     "execution_count": 8,
     "metadata": {},
     "output_type": "execute_result"
    }
   ],
   "source": [
    "5 / 2.0 + 5 / 2"
   ]
  },
  {
   "cell_type": "code",
   "execution_count": 54,
   "metadata": {},
   "outputs": [
    {
     "data": {
      "text/plain": [
       "17"
      ]
     },
     "execution_count": 54,
     "metadata": {},
     "output_type": "execute_result"
    }
   ],
   "source": [
    "7 + 2 * 11 % 12"
   ]
  },
  {
   "cell_type": "code",
   "execution_count": 76,
   "metadata": {},
   "outputs": [
    {
     "ename": "CompilationException",
     "evalue": "",
     "output_type": "error",
     "traceback": [
      "\u001b[1m\u001b[30m|   \u001b[1m\u001b[30m(int)\u001b[0m\u001b[1m\u001b[30m\u001b[41mtrue\u001b[0m\u001b[1m\u001b[30m\u001b[0m",
      "\u001b[1m\u001b[31mincompatible types: boolean cannot be converted to int\u001b[0m",
      ""
     ]
    }
   ],
   "source": [
    "15 / (int)5.5"
   ]
  },
  {
   "cell_type": "code",
   "execution_count": 75,
   "metadata": {},
   "outputs": [
    {
     "ename": "CompilationException",
     "evalue": "",
     "output_type": "error",
     "traceback": [
      "\u001b[1m\u001b[30m|   \u001b[1m\u001b[30mint w = \u001b[0m\u001b[1m\u001b[30m\u001b[41ma + 500L\u001b[0m\u001b[1m\u001b[30m;\u001b[0m",
      "\u001b[1m\u001b[31mincompatible types: possible lossy conversion from long to int\u001b[0m",
      ""
     ]
    }
   ],
   "source": [
    "int a = 100;\n",
    "boolean b = true;\n",
    "String s = \"Fix me for \";\n",
    "\n",
    "s = s + a;\n",
    "\n",
    "String t = 12345;\n",
    "int u = \"12345\";\n",
    "int v = a + b;\n",
    "int w = a + 500L;"
   ]
  },
  {
   "cell_type": "code",
   "execution_count": 60,
   "metadata": {},
   "outputs": [
    {
     "name": "stdout",
     "output_type": "stream",
     "text": [
      "x, y = 11, 16\n"
     ]
    }
   ],
   "source": [
    "int x = 10;\n",
    "int y = ++x + 5;\n",
    "System.out.println(\"x, y = \" + x + \", \" + y);"
   ]
  },
  {
   "cell_type": "code",
   "execution_count": 61,
   "metadata": {},
   "outputs": [
    {
     "name": "stdout",
     "output_type": "stream",
     "text": [
      "x, y = 11, 15\n"
     ]
    }
   ],
   "source": [
    "int x = 10;\n",
    "int y = x++ + 5;\n",
    "System.out.println(\"x, y = \" + x + \", \" + y);"
   ]
  },
  {
   "cell_type": "code",
   "execution_count": 9,
   "metadata": {},
   "outputs": [],
   "source": [
    "double cash = 15_000_000.00;"
   ]
  },
  {
   "cell_type": "code",
   "execution_count": 14,
   "metadata": {},
   "outputs": [],
   "source": [
    "import java.util.Scanner;\n",
    "\n",
    "class NameAndAge {\n",
    "    public static void main(String[] args) {\n",
    "        Scanner sc = new Scanner(System.in);\n",
    "        \n",
    "        System.out.print(\"Name: \");\n",
    "        String name = sc.nextLine();\n",
    "        \n",
    "        System.out.print(\"Age: \");\n",
    "        int age = sc.nextInt();\n",
    "        \n",
    "        System.out.println(name + \" is \" + age + \" years old.\");\n",
    "    }\n",
    "}"
   ]
  },
  {
   "cell_type": "code",
   "execution_count": 15,
   "metadata": {},
   "outputs": [
    {
     "name": "stdout",
     "output_type": "stream",
     "text": [
      "Name: John\n",
      "Age: 10\n",
      "John is 10 years old.\n"
     ]
    }
   ],
   "source": [
    "NameAndAge.main(null);"
   ]
  },
  {
   "cell_type": "code",
   "execution_count": 18,
   "metadata": {},
   "outputs": [
    {
     "ename": "CompilationException",
     "evalue": "",
     "output_type": "error",
     "traceback": [
      "\u001b[1m\u001b[30m|   \u001b[1m\u001b[30m\u001b[0m\u001b[1m\u001b[30m\u001b[41mSystem.out.println\u001b[0m\u001b[1m\u001b[30m(\"Test\", \"123\");\u001b[0m",
      "\u001b[1m\u001b[31mno suitable method found for println(java.lang.String,java.lang.String)\u001b[0m",
      "\u001b[1m\u001b[31m    method java.io.PrintStream.println() is not applicable\u001b[0m",
      "\u001b[1m\u001b[31m      (actual and formal argument lists differ in length)\u001b[0m",
      "\u001b[1m\u001b[31m    method java.io.PrintStream.println(boolean) is not applicable\u001b[0m",
      "\u001b[1m\u001b[31m      (actual and formal argument lists differ in length)\u001b[0m",
      "\u001b[1m\u001b[31m    method java.io.PrintStream.println(char) is not applicable\u001b[0m",
      "\u001b[1m\u001b[31m      (actual and formal argument lists differ in length)\u001b[0m",
      "\u001b[1m\u001b[31m    method java.io.PrintStream.println(int) is not applicable\u001b[0m",
      "\u001b[1m\u001b[31m      (actual and formal argument lists differ in length)\u001b[0m",
      "\u001b[1m\u001b[31m    method java.io.PrintStream.println(long) is not applicable\u001b[0m",
      "\u001b[1m\u001b[31m      (actual and formal argument lists differ in length)\u001b[0m",
      "\u001b[1m\u001b[31m    method java.io.PrintStream.println(float) is not applicable\u001b[0m",
      "\u001b[1m\u001b[31m      (actual and formal argument lists differ in length)\u001b[0m",
      "\u001b[1m\u001b[31m    method java.io.PrintStream.println(double) is not applicable\u001b[0m",
      "\u001b[1m\u001b[31m      (actual and formal argument lists differ in length)\u001b[0m",
      "\u001b[1m\u001b[31m    method java.io.PrintStream.println(char[]) is not applicable\u001b[0m",
      "\u001b[1m\u001b[31m      (actual and formal argument lists differ in length)\u001b[0m",
      "\u001b[1m\u001b[31m    method java.io.PrintStream.println(java.lang.String) is not applicable\u001b[0m",
      "\u001b[1m\u001b[31m      (actual and formal argument lists differ in length)\u001b[0m",
      "\u001b[1m\u001b[31m    method java.io.PrintStream.println(java.lang.Object) is not applicable\u001b[0m",
      "\u001b[1m\u001b[31m      (actual and formal argument lists differ in length)\u001b[0m",
      ""
     ]
    }
   ],
   "source": [
    "System.out.println(\"Test\", \"123\");"
   ]
  },
  {
   "cell_type": "code",
   "execution_count": 39,
   "metadata": {},
   "outputs": [],
   "source": [
    "import javax.swing.JOptionPane;\n",
    "\n",
    "class DialogExample {\n",
    "    public static void main(String[] args) {\n",
    "        String name = JOptionPane.showInputDialog(null, \"Enter your name:\");\n",
    "        JOptionPane.showMessageDialog(null, \"Hi, \" + name + \"!\");\n",
    "    }\n",
    "}"
   ]
  },
  {
   "cell_type": "code",
   "execution_count": 36,
   "metadata": {},
   "outputs": [],
   "source": [
    "DialogExample.main(null);"
   ]
  },
  {
   "cell_type": "code",
   "execution_count": 34,
   "metadata": {},
   "outputs": [
    {
     "name": "stdout",
     "output_type": "stream",
     "text": [
      "Number: 123\n",
      "Name: John\n",
      "Result: \"John got 123\"\n"
     ]
    }
   ],
   "source": [
    "Scanner sc = new Scanner(System.in);\n",
    "\n",
    "System.out.print(\"Number: \");\n",
    "int number = sc.nextInt();\n",
    "sc.nextLine();\n",
    "System.out.print(\"Name: \");\n",
    "String name = sc.nextLine();\n",
    "\n",
    "System.out.println(\"Result: \\\"\" + name + \" got \" + number + \"\\\"\");"
   ]
  },
  {
   "cell_type": "code",
   "execution_count": 40,
   "metadata": {},
   "outputs": [
    {
     "data": {
      "text/plain": [
       "1.24E-10"
      ]
     },
     "execution_count": 40,
     "metadata": {},
     "output_type": "execute_result"
    }
   ],
   "source": [
    "1.24E-10f"
   ]
  },
  {
   "cell_type": "code",
   "execution_count": 3,
   "metadata": {},
   "outputs": [
    {
     "name": "stdout",
     "output_type": "stream",
     "text": [
      "Outside of the block\n",
      "Inside the block\n",
      "... where a + c = 25.4\n",
      "Outside again\n",
      "... where a + b = 15.25\n",
      "... and where there is no c\n"
     ]
    }
   ],
   "source": [
    "int a = 10;\n",
    "double b = 5.25;\n",
    "\n",
    "System.out.println(\"Outside of the block\");\n",
    "\n",
    "{\n",
    "    double c = 15.4;\n",
    "\n",
    "    System.out.println(\"Inside the block\");\n",
    "    System.out.println(\"... where a + c = \" + (a + c));\n",
    "}\n",
    "\n",
    "System.out.println(\"Outside again\");\n",
    "System.out.println(\"... where a + b = \" + (a + b));\n",
    "System.out.println(\"... and where there is no c\");"
   ]
  },
  {
   "cell_type": "code",
   "execution_count": 1,
   "metadata": {},
   "outputs": [
    {
     "name": "stdout",
     "output_type": "stream",
     "text": [
      "null\n"
     ]
    }
   ],
   "source": [
    "int score = 80;\n",
    "String grade;\n",
    "\n",
    "if (score < 50)\n",
    "    grade = \"F\";\n",
    "else if (score < 60)\n",
    "    grade = \"D\";\n",
    "else if (score < 70)\n",
    "    grade = \"C\";\n",
    "else if (score < 80)\n",
    "    grade = \"B\";\n",
    "else\n",
    "    grade = \"A\";\n",
    "\n",
    "System.out.println(grade);"
   ]
  },
  {
   "cell_type": "code",
   "execution_count": 4,
   "metadata": {},
   "outputs": [
    {
     "name": "stdout",
     "output_type": "stream",
     "text": [
      "Enter your guess (1-100): \n",
      "50\n"
     ]
    }
   ],
   "source": [
    "Scanner sc = new Scanner(System.in);\n",
    "\n",
    "int secret = 76;\n",
    "\n",
    "System.out.println(\"Enter your guess (1-100): \");\n",
    "int guess = sc.nextInt();\n",
    "\n",
    "if (guess == secret)\n",
    "    System.out.println(\"You won!\");"
   ]
  },
  {
   "cell_type": "code",
   "execution_count": 5,
   "metadata": {},
   "outputs": [
    {
     "name": "stdout",
     "output_type": "stream",
     "text": [
      "Enter your guess (1-100): \n",
      "50\n",
      "Better luck next time.\n"
     ]
    }
   ],
   "source": [
    "System.out.println(\"Enter your guess (1-100): \");\n",
    "int guess = sc.nextInt();\n",
    "\n",
    "if (guess == secret)\n",
    "    System.out.println(\"You won!\");\n",
    "else\n",
    "    System.out.println(\"Better luck next time.\");"
   ]
  },
  {
   "cell_type": "code",
   "execution_count": 5,
   "metadata": {},
   "outputs": [
    {
     "name": "stdout",
     "output_type": "stream",
     "text": [
      "Wednesday\n"
     ]
    }
   ],
   "source": [
    "int day = 4;\n",
    "String dayName;\n",
    "\n",
    "switch (day) {\n",
    "    case 1:\n",
    "        dayName = \"Sunday\";\n",
    "        break;\n",
    "    case 2:\n",
    "        dayName = \"Monday\";\n",
    "        break;\n",
    "    case 3:\n",
    "        dayName = \"Tuesday\";\n",
    "        break;\n",
    "    case 4:\n",
    "        dayName = \"Wednesday\";\n",
    "        break;\n",
    "    case 5:\n",
    "        dayName = \"Thursday\";\n",
    "        break;\n",
    "    case 6:\n",
    "        dayName = \"Friday\";\n",
    "        break;\n",
    "    case 7:\n",
    "        dayName = \"Saturday\";\n",
    "        break;\n",
    "    default:\n",
    "        dayName = \"No such day\";\n",
    "}\n",
    "\n",
    "System.out.println(dayName);"
   ]
  },
  {
   "cell_type": "markdown",
   "metadata": {},
   "source": [
    "It's actually better to move the switch outside to avoid checking at every iteration"
   ]
  },
  {
   "cell_type": "code",
   "execution_count": 4,
   "metadata": {
    "scrolled": true
   },
   "outputs": [
    {
     "name": "stdout",
     "output_type": "stream",
     "text": [
      "Enter your guess (1-100): \n",
      "1\n",
      "Too low. Try again.\n",
      "Enter your guess (1-100): \n",
      "2\n",
      "Too low. Try again.\n",
      "Enter your guess (1-100): \n",
      "3\n",
      "Too low. Try again.\n",
      "Enter your guess (1-100): \n",
      "4\n",
      "Too low. Try again.\n",
      "Enter your guess (1-100): \n",
      "5\n",
      "Too low. Try again.\n",
      "Enter your guess (1-100): \n",
      "6\n",
      "Too low. Try again.\n",
      "Enter your guess (1-100): \n",
      "7\n",
      "Too low. Try again.\n",
      "Enter your guess (1-100): \n",
      "8\n",
      "Too low. Try again.\n",
      "Enter your guess (1-100): \n",
      "9\n",
      "Too low. Try again.\n",
      "Enter your guess (1-100): \n",
      "50\n",
      "You won! You've guessed 10 times.\n"
     ]
    }
   ],
   "source": [
    "Random random = new Random();\n",
    "Scanner sc = new Scanner(System.in);\n",
    "\n",
    "int secret = random.nextInt(100) + 1;\n",
    "int guess;\n",
    "int guessCount = 0;\n",
    "int guessLimit = 10;\n",
    "\n",
    "do {\n",
    "    System.out.println(\"Enter your guess (1-100): \");\n",
    "    guess = sc.nextInt();\n",
    "    guessCount++;\n",
    "\n",
    "    if (guess > secret)\n",
    "        System.out.println(\"Too high. Try again.\");\n",
    "    else if (guess < secret)\n",
    "        System.out.println(\"Too low. Try again.\");\n",
    "    else\n",
    "        System.out.println(\"You won! You've guessed \" + guessCount + \" times.\");\n",
    "} while (guess != secret && guessCount < guessLimit);\n",
    "\n",
    "if (guess != secret)\n",
    "    System.out.println(\"You've exceeded guess limit. Beter luck next time.\");"
   ]
  },
  {
   "cell_type": "code",
   "execution_count": 6,
   "metadata": {},
   "outputs": [
    {
     "name": "stdout",
     "output_type": "stream",
     "text": [
      "Total: 45\n"
     ]
    }
   ],
   "source": [
    "int x = 10;\n",
    "int y = 5;\n",
    "int sum = 0;\n",
    "\n",
    "while (x > y) {\n",
    "    sum += x + y;\n",
    "    x--;\n",
    "    y++;\n",
    "}\n",
    "\n",
    "System.out.println(\"Total: \" + sum);"
   ]
  },
  {
   "cell_type": "code",
   "execution_count": 9,
   "metadata": {},
   "outputs": [
    {
     "name": "stdout",
     "output_type": "stream",
     "text": [
      "n=6 m=6 x=3.5 y=2.5\n",
      "n=7 m=5 x=2.5 y=14.5\n"
     ]
    }
   ],
   "source": [
    "int n = 5;\n",
    "int m = ++n;\n",
    "double x = 2.5;\n",
    "double y = x++;\n",
    "\n",
    "System.out.println(\"n=\" + n + \" m=\" + m + \" x=\" + x + \" y=\" + y);\n",
    "\n",
    "y = n++ + --m + x--;\n",
    "\n",
    "System.out.println(\"n=\" + n + \" m=\" + m + \" x=\" + x + \" y=\" + y);"
   ]
  },
  {
   "cell_type": "code",
   "execution_count": null,
   "metadata": {},
   "outputs": [],
   "source": [
    "int x = 10;\n",
    "int y = 20;\n",
    "boolean b = true;\n",
    "boolean c = b && x < y; // true\n",
    "\n",
    "if (x < y - 10)\n",
    "    System.out.println(\"First case is true\");\n",
    "\n",
    "if (c) {\n",
    "    // Using block statement here\n",
    "    System.out.println(\"Second case is true\");\n",
    "} else {\n",
    "    // Also block statement here\n",
    "    System.out.println(\"Second case if false\");\n",
    "}\n",
    "\n",
    "// Nested if's, all using block statements\n",
    "if (x + 1 > y) {\n",
    "    System.out.println(\"Third case is true\");\n",
    "} else if (x + 5 > y && y < 30) {\n",
    "    System.out.println(\"Fourth case is true\");\n",
    "} else if (x + 10 > y && y < 40) {\n",
    "    System.out.println(\"Fifth case is true\");\n",
    "} else {\n",
    "    System.out.println(\"Nothing is true\");\n",
    "}"
   ]
  },
  {
   "cell_type": "code",
   "execution_count": 2,
   "metadata": {},
   "outputs": [
    {
     "name": "stdout",
     "output_type": "stream",
     "text": [
      "You've got a lollipop, a fancy mask, and a lot of fun.\n"
     ]
    }
   ],
   "source": [
    "Random dice = new Random();\n",
    "\n",
    "String prizes = \"You've got \";\n",
    "\n",
    "switch (dice.nextInt(6) + 1) {\n",
    "    case 1:\n",
    "        prizes += \"a teddy bear.\";\n",
    "        break;\n",
    "    case 2:\n",
    "        prizes += \"a model robot, \";\n",
    "    case 3:\n",
    "        prizes += \"a board game, \";\n",
    "    case 4: case 5:\n",
    "        prizes += \"a lollipop, \";\n",
    "    case 6:\n",
    "        prizes += \"a fancy mask, \";\n",
    "    default:\n",
    "        prizes += \"and a lot of fun.\";\n",
    "}\n",
    "\n",
    "System.out.println(prizes);"
   ]
  },
  {
   "cell_type": "code",
   "execution_count": 5,
   "metadata": {},
   "outputs": [
    {
     "name": "stdout",
     "output_type": "stream",
     "text": [
      "Rolling 1\n",
      "Rolling 2\n",
      "Rolling 5\n",
      "Rolling 4\n",
      "Rolling 3\n",
      "Rolling 5\n",
      "Rolling 6\n"
     ]
    }
   ],
   "source": [
    "Random dice = new Random();\n",
    "int roll = dice.nextInt(6) + 1;\n",
    "while (roll != 6) {\n",
    "    System.out.println(\"Rolling \" + roll);\n",
    "    roll = dice.nextInt(6) + 1;\n",
    "}\n",
    "System.out.println(\"Rolling \" + roll);"
   ]
  },
  {
   "cell_type": "code",
   "execution_count": 4,
   "metadata": {},
   "outputs": [
    {
     "name": "stdout",
     "output_type": "stream",
     "text": [
      "Rolling 2\n",
      "Rolling 3\n",
      "Rolling 1\n",
      "Rolling 6\n"
     ]
    }
   ],
   "source": [
    "Random dice = new Random();\n",
    "int roll;\n",
    "do {\n",
    "    roll = dice.nextInt(6) + 1;\n",
    "    System.out.println(\"Rolling \" + roll);\n",
    "} while (roll != 6);"
   ]
  },
  {
   "cell_type": "code",
   "execution_count": 16,
   "metadata": {},
   "outputs": [
    {
     "name": "stdout",
     "output_type": "stream",
     "text": [
      "Nay...\n"
     ]
    }
   ],
   "source": [
    "double c = 0.1;\n",
    "double d = 0.2;\n",
    "if (c + d == 0.3)\n",
    "    System.out.println(\"Yay!!!\");\n",
    "else\n",
    "    System.out.println(\"Nay...\");"
   ]
  },
  {
   "cell_type": "code",
   "execution_count": 17,
   "metadata": {},
   "outputs": [
    {
     "name": "stdout",
     "output_type": "stream",
     "text": [
      "Yay!!!\n"
     ]
    }
   ],
   "source": [
    "double c = 0.1;\n",
    "double d = 0.2;\n",
    "double e = 0.000001; // Error threshold that is acceptable to you\n",
    "\n",
    "if (Math.abs(c + d - 0.3) < e)\n",
    "    System.out.println(\"Yay!!!\");\n",
    "else\n",
    "    System.out.println(\"Nay...\");"
   ]
  },
  {
   "cell_type": "code",
   "execution_count": 3,
   "metadata": {},
   "outputs": [
    {
     "name": "stdout",
     "output_type": "stream",
     "text": [
      "Stopped at 34 with the sum 525\n"
     ]
    }
   ],
   "source": [
    "// Sum all positive integers less than 100, skipping those that has 7 as a factor, until the sum exceeds 500\n",
    "\n",
    "int sum = 0;\n",
    "int count = 1;\n",
    "\n",
    "while (count < 100) {\n",
    "    if (count % 7 == 0) {\n",
    "        count++;\n",
    "        continue;\n",
    "    }\n",
    "    sum += count;\n",
    "    if (sum > 500)\n",
    "        break;\n",
    "    count++;\n",
    "}\n",
    "\n",
    "System.out.println(\"Stopped at \" + count + \" with the sum \" + sum);"
   ]
  },
  {
   "cell_type": "code",
   "execution_count": 12,
   "metadata": {},
   "outputs": [
    {
     "data": {
      "text/plain": [
       "true"
      ]
     },
     "execution_count": 12,
     "metadata": {},
     "output_type": "execute_result"
    }
   ],
   "source": [
    "int a = 5, b = 4, c = 4, d = 5;\n",
    "\n",
    "(a < b || c < d) && !(a < d)"
   ]
  },
  {
   "cell_type": "markdown",
   "metadata": {},
   "source": [
    "boolean expressions\n",
    "short-circuit evaluation\n",
    "conditional expressions\n",
    "\n",
    "if\n",
    "if-else\n",
    "nested ifs\n",
    "if with blocks\n",
    "if-else-if ladder\n",
    "\n",
    "block statements\n",
    "block scope\n",
    "\n",
    "switch\n",
    "multiple labels\n",
    "fall-through\n",
    "\n",
    "while\n",
    "do-while\n",
    "pre- and post-increment and decrement\n",
    "op= operators (compound assignment)\n",
    "\n",
    "floating-point comparison\n",
    "\n",
    "--------------------\n",
    "\n",
    "static methods\n",
    "absolute function with conditional expression\n",
    "local scoping\n",
    "block-level scope and shadowing\n",
    "parameter passing and copy semantics\n",
    "\n",
    "arrays\n",
    "array references and aliasing\n",
    "null value\n",
    "2D/3D arrays\n",
    "for (conditional)\n",
    "nested for loops\n",
    "for (sequence)\n",
    "String formatting\n",
    "StringBuffer/StringBuilder (mention in passing + one example)\n",
    "ArrayList\n",
    "HashMap\n",
    "wrapper classes\n",
    "JFrame, JPanel, drawing"
   ]
  },
  {
   "cell_type": "code",
   "execution_count": 1,
   "metadata": {},
   "outputs": [
    {
     "name": "stdout",
     "output_type": "stream",
     "text": [
      "*\n",
      "**\n",
      "***\n",
      "****\n",
      "*****\n"
     ]
    }
   ],
   "source": [
    "int n = 5;\n",
    "String printOption = \"none\"; // \"outer\", \"inner\", \"both\"\n",
    "\n",
    "for (int i = 0; i < n; i++) {\n",
    "    for (int j = 0; j <= i; j++) {\n",
    "        switch (printOption) {\n",
    "            case \"outer\":\n",
    "                System.out.print(i);\n",
    "                break;\n",
    "            case \"inner\":\n",
    "                System.out.print(j);\n",
    "                break;\n",
    "            case \"both\":\n",
    "                System.out.print(i + j);\n",
    "                break;\n",
    "            default:\n",
    "                System.out.print('*');\n",
    "        }\n",
    "    }\n",
    "    System.out.println();\n",
    "}"
   ]
  },
  {
   "cell_type": "code",
   "execution_count": 12,
   "metadata": {},
   "outputs": [
    {
     "name": "stdout",
     "output_type": "stream",
     "text": [
      "Is s == t? true\n",
      "Is s == w? false\n"
     ]
    }
   ],
   "source": [
    "String s = \"abc\";\n",
    "String t = \"abc\";\n",
    "String w = \"\" + s;\n",
    "\n",
    "System.out.println(\"Is s == t? \" + (s == t));\n",
    "System.out.println(\"Is s == w? \" + (s == w));"
   ]
  },
  {
   "cell_type": "code",
   "execution_count": 10,
   "metadata": {},
   "outputs": [
    {
     "name": "stdout",
     "output_type": "stream",
     "text": [
      "Is s == t? true\n",
      "Is s == w? true\n"
     ]
    }
   ],
   "source": [
    "String s = \"abc\";\n",
    "String t = \"abc\";\n",
    "String w = \"\" + s;\n",
    "\n",
    "System.out.println(\"Is s == t? \" + (s.equals(t)));\n",
    "System.out.println(\"Is s == w? \" + (s.equals(w)));"
   ]
  },
  {
   "cell_type": "code",
   "execution_count": 13,
   "metadata": {},
   "outputs": [
    {
     "name": "stdout",
     "output_type": "stream",
     "text": [
      "First character = H\n",
      "Second character is 'e'? true\n"
     ]
    }
   ],
   "source": [
    "String hello = \"Hello\";\n",
    "char firstChar = hello.charAt(0);\n",
    "\n",
    "System.out.println(\"First character = \" + firstChar);\n",
    "System.out.println(\"Second character is 'e'? \" + (hello.charAt(1) == 'e'));"
   ]
  },
  {
   "cell_type": "code",
   "execution_count": 6,
   "metadata": {},
   "outputs": [
    {
     "name": "stdout",
     "output_type": "stream",
     "text": [
      "2.50 00005\n"
     ]
    },
    {
     "data": {
      "text/plain": [
       "java.io.PrintStream@55d2b804"
      ]
     },
     "execution_count": 6,
     "metadata": {},
     "output_type": "execute_result"
    }
   ],
   "source": [
    "double x = 2.5;\n",
    "int y = 5;\n",
    "System.out.printf(\"%.2f %05d\\n\", x, y);"
   ]
  },
  {
   "cell_type": "code",
   "execution_count": 23,
   "metadata": {},
   "outputs": [
    {
     "ename": "CompilationException",
     "evalue": "",
     "output_type": "error",
     "traceback": [
      "\u001b[1m\u001b[30m|   \u001b[1m\u001b[30m        Penguin p = \u001b[0m\u001b[1m\u001b[30m\u001b[41manimals[1]\u001b[0m\u001b[1m\u001b[30m;\u001b[0m",
      "\u001b[1m\u001b[31mincompatible types: Animal cannot be converted to Penguin\u001b[0m",
      ""
     ]
    }
   ],
   "source": [
    "public abstract class Animal {\n",
    "    protected String name;\n",
    "    \n",
    "    public Animal(String name) { this.name = name; }\n",
    "    \n",
    "    public String getName() { return name; }\n",
    "    \n",
    "    public void move() {\n",
    "        System.out.println(getName() + \" moves.\");\n",
    "    }\n",
    "    \n",
    "    public static void speak() {\n",
    "        System.out.println(\"Animal cannot speak.\");\n",
    "    }\n",
    "}\n",
    "\n",
    "public class Bird extends Animal {\n",
    "    public Bird() { this(\"Birdie\"); }\n",
    "    \n",
    "    public Bird(String name) { super(name); }\n",
    "\n",
    "    @Override\n",
    "    public void move() {\n",
    "        System.out.println(getName() + \" flies.\");\n",
    "    }\n",
    "\n",
    "    public static void speak() {\n",
    "        System.out.println(\"Chirp.\");\n",
    "    }\n",
    "}\n",
    "\n",
    "public class Penguin extends Bird {\n",
    "    @Override\n",
    "    public void move() {\n",
    "        System.out.println(getName() + \" walks.\");\n",
    "    }\n",
    "}\n",
    "\n",
    "public class AnimalTest {\n",
    "    public static void main(String[] args) {\n",
    "        Animal[] animals = new Animal[2];\n",
    "        animals[0] = new Bird(\"Tweetie\");\n",
    "        animals[1] = new Penguin();\n",
    "\n",
    "        // (1)\n",
    "        Penguin p = animals[1];\n",
    "    }\n",
    "}\n"
   ]
  },
  {
   "cell_type": "code",
   "execution_count": 22,
   "metadata": {},
   "outputs": [
    {
     "name": "stdout",
     "output_type": "stream",
     "text": [
      "Birdie walks.\n"
     ]
    }
   ],
   "source": [
    "AnimalTest.main(null);"
   ]
  },
  {
   "cell_type": "code",
   "execution_count": 5,
   "metadata": {},
   "outputs": [],
   "source": [
    "public class Bicycle {\n",
    "    public int cadence;\n",
    "    public int gear;\n",
    "    public int speed;\n",
    "        \n",
    "    public Bicycle(int startCadence,\n",
    "                   int startSpeed,\n",
    "                   int startGear) {\n",
    "        gear = startGear;\n",
    "        cadence = startCadence;\n",
    "        speed = startSpeed;\n",
    "    }\n",
    "        \n",
    "    public void setCadence(int newValue) {\n",
    "        cadence = newValue;\n",
    "    }\n",
    "        \n",
    "    public void setGear(int newValue) {\n",
    "        gear = newValue;\n",
    "    }\n",
    "        \n",
    "    public void applyBrake(int decrement) {\n",
    "        speed -= decrement;\n",
    "    }\n",
    "        \n",
    "    public void speedUp(int increment) {\n",
    "        speed += increment;\n",
    "    }\n",
    "        \n",
    "    public void printDescription() {\n",
    "        System.out.println(\"\\nBike is \"\n",
    "            + \"in gear \" + this.gear\n",
    "            + \" with a cadence of \"\n",
    "            + this.cadence\n",
    "            + \" and travelling at a speed of \"\n",
    "            + this.speed + \". \");\n",
    "    }\n",
    "}\n",
    "\n",
    "public class MountainBike extends Bicycle {\n",
    "    private String suspension;\n",
    "\n",
    "    public MountainBike(\n",
    "               int startCadence,\n",
    "               int startSpeed,\n",
    "               int startGear,\n",
    "               String suspensionType){\n",
    "        super(startCadence,\n",
    "              startSpeed,\n",
    "              startGear);\n",
    "        this.setSuspension(suspensionType);\n",
    "    }\n",
    "\n",
    "    public String getSuspension(){\n",
    "      return this.suspension;\n",
    "    }\n",
    "    \n",
    "    public void setSuspension(String suspension){\n",
    "        this.suspension = suspension;\n",
    "    }\n",
    "\n",
    "    public void printDescription() {\n",
    "        super.printDescription();\n",
    "        System.out.println(\"The \"\n",
    "            + \"MountainBike has a\"\n",
    "            + getSuspension() + \" suspension.\");\n",
    "    }\n",
    "}\n",
    "\n",
    "public class RoadBike extends Bicycle {\n",
    "    private int tireWidth;\n",
    "\n",
    "    public RoadBike(int startCadence,\n",
    "                    int startSpeed,\n",
    "                    int startGear,\n",
    "                    int newTireWidth) {\n",
    "        super(startCadence,\n",
    "              startSpeed,\n",
    "              startGear);\n",
    "        this.setTireWidth(newTireWidth);\n",
    "    }\n",
    "\n",
    "    public int getTireWidth(){\n",
    "      return this.tireWidth;\n",
    "    }\n",
    "\n",
    "    public void setTireWidth(int newTireWidth){\n",
    "        this.tireWidth = newTireWidth;\n",
    "    }\n",
    "\n",
    "    public void printDescription(){\n",
    "        super.printDescription();\n",
    "        System.out.println(\"The RoadBike\"\n",
    "            + \" has \" + getTireWidth()\n",
    "            + \" MM tires.\");\n",
    "    }\n",
    "}"
   ]
  },
  {
   "cell_type": "code",
   "execution_count": 24,
   "metadata": {},
   "outputs": [],
   "source": [
    "public class TestBikes {\n",
    "  public static void main(String[] args){\n",
    "    Bicycle bike01, bike02, bike03;\n",
    "\n",
    "    bike01 = new Bicycle(20, 10, 1);\n",
    "    bike02 = new MountainBike(20, 10, 5, \"Dual\");\n",
    "    bike03 = new RoadBike(40, 20, 8, 23);\n",
    "\n",
    "    String suspension = ((MountainBike)bike02).getSuspension();\n",
    "    System.out.println(\"MB Suspension: \"\n",
    "        + suspension);\n",
    "\n",
    "    bike01.printDescription();\n",
    "    bike02.printDescription();\n",
    "    bike03.printDescription();\n",
    "  }\n",
    "}"
   ]
  },
  {
   "cell_type": "code",
   "execution_count": 25,
   "metadata": {},
   "outputs": [
    {
     "ename": "UnresolvedReferenceException",
     "evalue": "Attempt to use definition snippet with unresolved references",
     "output_type": "error",
     "traceback": [
      "\u001b[1m\u001b[30m|   \u001b[1m\u001b[30mpublic class TestBikes {\u001b[0m",
      "\u001b[1m\u001b[30m|   \u001b[1m\u001b[30m  public static void main(String[] args){\u001b[0m",
      "\u001b[1m\u001b[30m|   \u001b[1m\u001b[30m    Bicycle bike01, bike02, bike03;\u001b[0m",
      "\u001b[1m\u001b[30m|   \u001b[1m\u001b[30m\u001b[0m",
      "\u001b[1m\u001b[30m|   \u001b[1m\u001b[30m    bike01 = new Bicycle(20, 10, 1);\u001b[0m",
      "\u001b[1m\u001b[30m|   \u001b[1m\u001b[30m    bike02 = new MountainBike(20, 10, 5, \"Dual\");\u001b[0m",
      "\u001b[1m\u001b[30m|   \u001b[1m\u001b[30m    bike03 = new RoadBike(40, 20, 8, 23);\u001b[0m",
      "\u001b[1m\u001b[30m|   \u001b[1m\u001b[30m\u001b[0m",
      "\u001b[1m\u001b[30m|   \u001b[1m\u001b[30m    String suspension = MountainBike(bike02).getSuspension();\u001b[0m",
      "\u001b[1m\u001b[30m|   \u001b[1m\u001b[30m    System.out.println(\"MB Suspension: \"\u001b[0m",
      "\u001b[1m\u001b[30m|   \u001b[1m\u001b[30m        + suspension);\u001b[0m",
      "\u001b[1m\u001b[30m|   \u001b[1m\u001b[30m\u001b[0m",
      "\u001b[1m\u001b[30m|   \u001b[1m\u001b[30m    bike01.printDescription();\u001b[0m",
      "\u001b[1m\u001b[30m|   \u001b[1m\u001b[30m    bike02.printDescription();\u001b[0m",
      "\u001b[1m\u001b[30m|   \u001b[1m\u001b[30m    bike03.printDescription();\u001b[0m",
      "\u001b[1m\u001b[30m|   \u001b[1m\u001b[30m  }\u001b[0m",
      "\u001b[1m\u001b[30m|   \u001b[1m\u001b[30m}\u001b[0m",
      "\u001b[1m\u001b[31mUnresolved dependencies:\u001b[0m",
      "\u001b[1m\u001b[31m   - method MountainBike(Bicycle)\u001b[0m"
     ]
    }
   ],
   "source": [
    "TestBikes.main(null);"
   ]
  },
  {
   "cell_type": "code",
   "execution_count": 17,
   "metadata": {},
   "outputs": [
    {
     "name": "stdout",
     "output_type": "stream",
     "text": [
      "8\n"
     ]
    }
   ],
   "source": [
    "int c = 5;\n",
    "int d = 0;\n",
    "switch (c)\n",
    "{\n",
    "    case 1:\n",
    "        d += 1;\n",
    "    case 2:\n",
    "        d += 2;\n",
    "    case 3:\n",
    "        d += 4;\n",
    "        break;\n",
    "    default:\n",
    "        d = 8;\n",
    "        break;\n",
    "}\n",
    "System.out.println(d);"
   ]
  },
  {
   "cell_type": "code",
   "execution_count": 22,
   "metadata": {},
   "outputs": [],
   "source": [
    "class Product {\n",
    "    private String partNumber;\n",
    "    private String name;\n",
    "    private double unitPrice;\n",
    "    \n",
    "    public Product(String partNumber, String name, double unitPrice) {\n",
    "        this.partNumber = partNumber;\n",
    "        this.name = name;\n",
    "        if (unitPrice < 0.0) {\n",
    "            unitPrice = 0.0;\n",
    "        }\n",
    "        this.unitPrice = unitPrice;\n",
    "    }\n",
    "    \n",
    "    public void setPartNumber(String partNumber) {\n",
    "        this.partNumber = partNumber;\n",
    "    }\n",
    "    \n",
    "    public String getPartNumber() {\n",
    "        return partNumber;\n",
    "    }\n",
    "\n",
    "    public void setName(String name) {\n",
    "        this.name = name;\n",
    "    }\n",
    "    \n",
    "    public String getName() {\n",
    "        return name;\n",
    "    }\n",
    "\n",
    "    public void setUnitPrice(double unitPrice) {\n",
    "        if (unitPrice < 0.0) {\n",
    "            this.unitPrice = 0.0;\n",
    "        } else {\n",
    "            this.unitPrice = unitPrice;\n",
    "        }\n",
    "    }\n",
    "    \n",
    "    public double getUnitPrice() {\n",
    "        return unitPrice;\n",
    "    }\n",
    "}\n",
    "\n",
    "class Invoice {\n",
    "    private Product item;\n",
    "    private int quantity;\n",
    "    \n",
    "    public Invoice(Product item, int quantity) {\n",
    "        this.item = item;\n",
    "        if (quantity < 0)\n",
    "            quantity = 0;\n",
    "        this.quantity = quantity;\n",
    "    }\n",
    "    \n",
    "    public void setItem(Product item) {\n",
    "        this.item = item;\n",
    "    }\n",
    "    \n",
    "    public Product getItem() {\n",
    "        return item;\n",
    "    }\n",
    "    \n",
    "    public void setQuantity(int quantity) {\n",
    "        if (quantity < 0) {\n",
    "            this.quantity = 0;\n",
    "        } else {\n",
    "            this.quantity = quantity;\n",
    "        }\n",
    "    }\n",
    "    \n",
    "    public double getQuantity() {\n",
    "        return quantity;\n",
    "    }\n",
    "    \n",
    "    public double getInvoiceAmount() {\n",
    "        return item.getUnitPrice() * quantity;\n",
    "    }\n",
    "}\n",
    "\n",
    "class InvoiceTest {\n",
    "    public static void main(String[] args) {\n",
    "        Product item = new Product(\"AX201\", \"Modern Axe\", 1200.00);\n",
    "        Invoice invoice = new Invoice(item, 2);\n",
    "        System.out.println(\"Total Invoice Amount = \" + invoice.getInvoiceAmount());\n",
    "    }\n",
    "}"
   ]
  },
  {
   "cell_type": "code",
   "execution_count": 23,
   "metadata": {},
   "outputs": [
    {
     "name": "stdout",
     "output_type": "stream",
     "text": [
      "Total Invoice Amount = 2400.0\n"
     ]
    }
   ],
   "source": [
    "InvoiceTest.main(null);"
   ]
  },
  {
   "cell_type": "code",
   "execution_count": 7,
   "metadata": {},
   "outputs": [],
   "source": [
    "import javax.swing.*;\n",
    "import java.awt.*;\n",
    "import java.awt.event.*;\n",
    "\n",
    "public class RadioButtonFrame extends JFrame\n",
    "{\n",
    "   private JTextField textField;\n",
    "   private JRadioButton plainJRadioButton;\n",
    "   private JRadioButton boldJRadioButton;\n",
    "   private JRadioButton italicJRadioButton;\n",
    "   private JRadioButton boldItalicJRadioButton;\n",
    "   private ButtonGroup radioGroup; // buttongroup to hold radio buttons\n",
    "\n",
    "   // RadioButtonFrame constructor adds JRadioButtons to JFrame\n",
    "   public RadioButtonFrame()\n",
    "   {\n",
    "      super( \"RadioButton Test\" );\n",
    "      setLayout( new FlowLayout() ); // set frame layout\n",
    "\n",
    "      textField = new JTextField( \"Watch the font style change\", 25 );\n",
    "      add( textField ); // add textField to JFrame\n",
    "\n",
    "      // create radio buttons\n",
    "      plainJRadioButton = new JRadioButton( \"Plain\", true );\n",
    "      boldJRadioButton = new JRadioButton( \"Bold\", false );\n",
    "      italicJRadioButton = new JRadioButton( \"Italic\", false );\n",
    "      boldItalicJRadioButton = new JRadioButton( \"Bold/Italic\", false );\n",
    "      add( plainJRadioButton ); // add plain button to JFrame\n",
    "      add( boldJRadioButton ); // add bold button to JFrame\n",
    "      add( italicJRadioButton ); // add italic button to JFrame\n",
    "      add( boldItalicJRadioButton ); // add bold and italic button\n",
    "\n",
    "      // create logical relationship between JRadioButtons\n",
    "      radioGroup = new ButtonGroup(); // create ButtonGroup\n",
    "      radioGroup.add( plainJRadioButton ); // add plain to group\n",
    "      radioGroup.add( boldJRadioButton ); // add bold to group\n",
    "      radioGroup.add( italicJRadioButton ); // add italic to group\n",
    "      radioGroup.add( boldItalicJRadioButton ); // add bold and italic\n",
    "\n",
    "      plainJRadioButton.addItemListener(\n",
    "         new RadioButtonHandler( \"Simple\" ) );\n",
    "      boldJRadioButton.addItemListener(\n",
    "         new RadioButtonHandler( \"Strong\" ) );\n",
    "      italicJRadioButton.addItemListener(\n",
    "         new RadioButtonHandler( \"Emphasized\" ) );\n",
    "      boldItalicJRadioButton.addItemListener(\n",
    "         new RadioButtonHandler( \"Different\" ) );\n",
    "   } // end RadioButtonFrame constructor\n",
    "\n",
    "   // private inner class to handle radio button events\n",
    "   private class RadioButtonHandler implements ItemListener\n",
    "   {\n",
    "      private String text; // font associated with this listener\n",
    "\n",
    "      public RadioButtonHandler( String str )\n",
    "      {\n",
    "         this.text = str; // set the font of this listener\n",
    "      } // end constructor RadioButtonHandler\n",
    "           \n",
    "      // handle radio button events\n",
    "      public void itemStateChanged( ItemEvent event )\n",
    "      {\n",
    "         textField.setText( text ); // set font of textField\n",
    "      } // end method itemStateChanged\n",
    "   } // end private inner class RadioButtonHandler\n",
    "} // end class RadioButtonFrame\n",
    "\n",
    "public class RadioButtonTest  \n",
    "{\n",
    "   public static void main( String[] args )\n",
    "   {\n",
    "      RadioButtonFrame radioButtonFrame = new RadioButtonFrame();\n",
    "      radioButtonFrame.setDefaultCloseOperation( JFrame.EXIT_ON_CLOSE );\n",
    "      radioButtonFrame.setSize( 300, 100 ); // set frame size\n",
    "      radioButtonFrame.setVisible( true ); // display frame\n",
    "   } // end main\n",
    "} // end class RadioButtonTest"
   ]
  },
  {
   "cell_type": "code",
   "execution_count": 8,
   "metadata": {},
   "outputs": [],
   "source": [
    "RadioButtonTest.main(null);"
   ]
  },
  {
   "cell_type": "code",
   "execution_count": 6,
   "metadata": {},
   "outputs": [
    {
     "ename": "CompilationException",
     "evalue": "",
     "output_type": "error",
     "traceback": [
      "\u001b[1m\u001b[30m|   \u001b[1m\u001b[30m\u001b[0m",
      "\u001b[1m\u001b[30m|   \u001b[1m\u001b[30m\u001b[0m",
      "\u001b[1m\u001b[30m|   \u001b[1m\u001b[30mpublic class Counter extends JFrame implements ActionListener {\u001b[0m",
      "\u001b[1m\u001b[30m|   \u001b[1m\u001b[30m    public Counter() {\u001b[0m",
      "\u001b[1m\u001b[30m|   \u001b[1m\u001b[30m        JPanel panel = new JPanel();\u001b[0m",
      "\u001b[1m\u001b[30m|   \u001b[1m\u001b[30m        panel.add(new JLabel(\"Counter\"));\u001b[0m",
      "\u001b[1m\u001b[30m|   \u001b[1m\u001b[30m        \u001b[0m",
      "\u001b[1m\u001b[30m|   \u001b[1m\u001b[30m        add(panel);\u001b[0m",
      "\u001b[1m\u001b[30m|   \u001b[1m\u001b[30m        //setSize(300, 300);\u001b[0m",
      "\u001b[1m\u001b[30m|   \u001b[1m\u001b[30m        setVisible(true);\u001b[0m",
      "\u001b[1m\u001b[30m|   \u001b[1m\u001b[30m    }\u001b[0m",
      "\u001b[1m\u001b[30m|   \u001b[1m\u001b[30m    \u001b[0m",
      "\u001b[1m\u001b[30m|   \u001b[1m\u001b[30m    public static void main(String[] args) {\u001b[0m",
      "\u001b[1m\u001b[30m|   \u001b[1m\u001b[30m        Counter frame = new Counter();\u001b[0m",
      "\u001b[1m\u001b[30m|   \u001b[1m\u001b[30m    }\u001b[0m",
      "\u001b[1m\u001b[30m|   \u001b[1m\u001b[30m}\u001b[0m",
      "\u001b[1m\u001b[31mUnresolved dependencies:\u001b[0m",
      "\u001b[1m\u001b[31m   - class ActionListener\u001b[0m"
     ]
    }
   ],
   "source": [
    "import javax.swing.*;\n",
    "import java.awt.event.*;\n",
    "\n",
    "public class Counter extends JFrame {\n",
    "    public Counter() {\n",
    "        JPanel panel = new JPanel();\n",
    "        panel.add(new JLabel(\"Counter\"));\n",
    "        \n",
    "        add(panel);\n",
    "        //setSize(300, 300);\n",
    "        setVisible(true);\n",
    "    }\n",
    "    \n",
    "    public static void main(String[] args) {\n",
    "        Counter frame = new Counter();\n",
    "    }\n",
    "}"
   ]
  },
  {
   "cell_type": "code",
   "execution_count": 4,
   "metadata": {},
   "outputs": [],
   "source": [
    "DrawSomething.main(null);"
   ]
  },
  {
   "cell_type": "code",
   "execution_count": null,
   "metadata": {},
   "outputs": [],
   "source": []
  }
 ],
 "metadata": {
  "kernelspec": {
   "display_name": "Java",
   "language": "java",
   "name": "java"
  },
  "language_info": {
   "codemirror_mode": "java",
   "file_extension": ".java",
   "mimetype": "text/x-java-source",
   "name": "Java",
   "pygments_lexer": "java",
   "version": "9.0.4+11"
  },
  "toc": {
   "nav_menu": {},
   "number_sections": true,
   "sideBar": true,
   "skip_h1_title": false,
   "title_cell": "Table of Contents",
   "title_sidebar": "Contents",
   "toc_cell": false,
   "toc_position": {},
   "toc_section_display": true,
   "toc_window_display": false
  }
 },
 "nbformat": 4,
 "nbformat_minor": 2
}
